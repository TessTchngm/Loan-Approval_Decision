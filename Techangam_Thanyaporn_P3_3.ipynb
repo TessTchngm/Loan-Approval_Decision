{
 "cells": [
  {
   "cell_type": "markdown",
   "id": "a5c49222",
   "metadata": {},
   "source": [
    "# Table of Content: <a class=\"anchor\" id=\"table-of-content\"></a>\n",
    "* [1. Problem Background and Motivation](#problem-background)\n",
    "* [2. Defining goals](#defining-goals)\n",
    "* [3. Libraries and Custom Functions](#import-packages)\n",
    "* [4. Data Exploration/Prep](#data-prep)\n",
    "* [5. Machine Learning Model](#ml-model)\n",
    "* [6. Deployment of Model](#model-deployment)"
   ]
  },
  {
   "cell_type": "markdown",
   "id": "47693378",
   "metadata": {},
   "source": [
    "# 1. Problem Background and Motivation <a class=\"anchor\" id=\"problem-background\"></a>\n"
   ]
  },
  {
   "cell_type": "markdown",
   "id": "910395f8",
   "metadata": {},
   "source": [
    "One of the most important factors which affects our country’s economy and the financial condition is the \n",
    "credit system governed by the banks. The success or failure of organization largely depends on the industrys ability to evaluate credit risk. Before giving the credit loan to borrowers, bank decides whether the borrower is bad (defaulter) or good (non defaulter). Nowadays, with the enhancement in the banking sector, lots of people are applying for bank loans since they can access to the loan application easier than before. However, the fact that the bank has its limited assets, it has to grant to limited people only. To be able to find out to whom the loan can be granted automatically using Machine learning will be a safer option for the bank rather than distinguishing whether to approve loan manually by hand as there are too many number of loan applications out there waiting to be reviewed. By that massive amount, human errors can occur easily and that we cannot overlook and seriously need to take it into consideration. Therefore, I will construct a model to help make a automatically decision base on information whether to approve loan to each individual or not. \n",
    "\n",
    "#### References :\n",
    "https://www.ijert.org/predict-loan-approval-in-banking-system-machine-learning-approach-for-cooperative-banks-loan-approval\n",
    "https://ijirt.org/master/publishedpaper/IJIRT151769_PAPER.pdf\n",
    "\n",
    "<img src='https://th.bing.com/th/id/OIP.j-c0KDIxUHYZMEBoOt9dyAHaHa?pid=ImgDet&rs=1'/>\n",
    "\n",
    "#### Questions to think about after doing the research about cars and before doing all the rest regarding predictive model that has to be answered first:\n",
    "\n",
    "- How many data (in each relevant feature) should I gather? How many of them considering enough?\n",
    "- How long it should take to conduct a model? Timeframe?\n",
    "- Where can I find relevant raw data and collect them to perform a model from ML? How reliable they are? \n",
    "- If self-gathering data is required, should I collect them through interviewing with bank's employee? How many employees should I reach out for interview to collect data?\n",
    "- Should I hire outsources to lessen the time? if so, What are the costs if there is no trace in the internet? How can I contact those company? How can I make them agree to answer these information? \n",
    "\n",
    "[Go to Top](#table-of-content)"
   ]
  },
  {
   "cell_type": "markdown",
   "id": "0d655a50",
   "metadata": {},
   "source": [
    "# <span style=\"color:red\"><b>**NOTE:**</span>\n",
    "## <span style=\"color:red\"><b> - There are sensitive features which I think should not be asked and take into account whether to approve loan or not. That features are the ethnicity questions. Hence, to gather information and create set of questions to ask, becareful not to use these inappropriate features as no race should be judged.</b>"
   ]
  },
  {
   "cell_type": "markdown",
   "id": "3699155b",
   "metadata": {},
   "source": [
    "# 2. Defining goals <a class=\"anchor\" id=\"defining-goals\"></a>\n",
    "\n",
    ">**- Who are the key stakeholders?**<br>\n",
    "> Any banks who interest in lowering their operating costs such as hiring costs, savng time and optimizing their loan approval decision at the same time. \n",
    "\n",
    ">**- who would be interested in this analysis?**<br>\n",
    "> Employees whose positions relate with loan as this model will have generated result automatically so it will help saving their time which can be used in doing something more important including, analyze active loan files on a regular basis and recommend solutions to speed up the loan process. \n",
    " \n",
    "<span style=\"color:red\"><b>**MAKE SURE** to check limitations or challenges before working on buding model such as laws, data ownership, the availability of data and so on.</b></span>\n",
    "\n",
    "[Go to Top](#table-of-content)"
   ]
  },
  {
   "cell_type": "markdown",
   "id": "fc97c951",
   "metadata": {},
   "source": [
    "### Future references use:\n",
    "<span style=\"color:orange\"><b>NOTE: Incase my datatable needs to merge or combine to other tables! [Read this link to do so (:](https://jakevdp.github.io/PythonDataScienceHandbook/03.07-merge-and-join.html#:~:text=To%20combine%20this%20information%20into%20a%20single%20DataFrame%2C,automatically%20joins%20using%20this%20column%20as%20a%20key.)</b></span>\n",
    "\n",
    "#### First things to do when decided to build a model!!!\n",
    "\n",
    " **1. Import pandas:** [What is pandas and how to use it](https://www.w3schools.com/python/pandas/pandas_intro.asp)\n",
    " \n",
    " **- remember to shorten the words by 'as' to help make things easier!**\n",
    " \n",
    " **2. Use SKLearn:** [What is SKLearn?](https://scikit-learn.org/stable/getting_started.html)\n",
    " \n",
    " **3. Decide which Linear model to use:** [LogisticRegression and when to use it](https://realpython.com/linear-regression-in-python/#what-is-regression) **<span style=\"color:red\"><b>(Frequently use! to predict target variable(y) including this heart disease prediction model!!!)</b></span>**\n",
    "| [OLS and when to use it ](https://scikit-learn.org/stable/modules/linear_model.html#ordinary-least-squares)| [other model functions and when to use them](https://scikit-learn.org/stable/modules/linear_model.html#)\n",
    "\n",
    " **4. Import numpy:** [What is numpy and how to use it ](https://www.educba.com/what-is-numpy/)\n",
    " \n",
    " **5. Import math:** [Which functions are available](https://www.w3schools.com/python/python_math.asp) \n",
    " \n",
    " **6. Import seaborn:** [What visualizations can we utilize in seaborn](https://www.analyticsvidhya.com/blog/2019/09/comprehensive-data-visualization-guide-seaborn-python/#:~:text=Seaborn%20is%20an%20amazing%20Python%20visualization%20library%20built,or%20trends%20that%20might%20not%20be%20obvious%20initially.)\n",
    " \n",
    " **7. Import matplotlib.pyplot:** [matplotlip cheat sheet](https://matplotlib.org/cheatsheets/_images/cheatsheets-1.png)\n",
    " \n",
    " **8. Plotly:** [What is plotly and what can plotly do](https://plotly.com/python/plotly-express/)\n",
    " \n",
    " **9: statsmodels:** [What is statsmodels](https://www.statsmodels.org/stable/)"
   ]
  },
  {
   "cell_type": "markdown",
   "id": "479509e3",
   "metadata": {},
   "source": [
    "# 3. Libraries & Custom Functions <a class=\"anchor\" id=\"import-packages\"></a>\n",
    "* [Go to Top](#table-of-content)"
   ]
  },
  {
   "cell_type": "code",
   "execution_count": 1,
   "id": "26b9186e",
   "metadata": {},
   "outputs": [],
   "source": [
    "import pandas as pd                                                    # Doing this to import \"pandas\" which is one of the \n",
    "                                                                       # python packages and shorten it as \"pd\" word to read \n",
    "                                                                       # + manage + analyze my data.\n",
    "pd.set_option('display.max_columns', None)                             # helping to see everything!\n",
    "pd.options.display.float_format = '{:.2f}'.format                      # for removing the scientific sign!\n",
    "import numpy as np                                                     # Importing this to help generating numerical value.\n",
    "\n",
    "# Graphics\n",
    "import seaborn as sns                                                  # Importing all these python visualizations to help \n",
    "                                                                       # with the interpretation! \n",
    "import matplotlib.pyplot as plt\n",
    "import plotly.graph_objects as go\n",
    "\n",
    "# ML\n",
    "from sklearn.model_selection import train_test_split                   # \"SKLEARN\" is a Machine learning library in python.  \n",
    "                                                                       # It helps to create a model we are interesting in \n",
    "                                                                       # doing predictive data analysis.\n",
    "                                                                       # Extracting train_test_split to help ML model.\n",
    "from sklearn.linear_model import LogisticRegression                    # Extracting Logistic Regression model function from \n",
    "                                                                       # linear model which is a class from the sklearn\n",
    "                                                                       # library to build a desire model used to estimate\n",
    "                                                                       # discrete values (binary values like 0/1, yes/no, \n",
    "                                                                       # true/false)\n",
    "from sklearn.neighbors import NearestNeighbors, KNeighborsClassifier   # Extracting KNN algorithm uses proximity to make \n",
    "                                                                       # classifications or predictions about the grouping \n",
    "                                                                       # of an individual data point.\n",
    "from sklearn import metrics                                            # Extractin metrics from sklearn to evaluate your \n",
    "                                                                       # machine learning algorithms.\n",
    "from sklearn.metrics import mean_absolute_error, mean_squared_error    # Extracting MSE from metrics in sklearn to check \n",
    "                                                                       # which threshold to pick by having low value of MSE\n",
    "\n",
    "import pickle                                                          # \"Pickle\" is a library to help keeping an object in Python as  \n",
    "                                                                       # a file form by changing it into Byte Stream and convert back to \n",
    "                                                                       # the same object when wanting to use it again (Object Serialisation).\n",
    "        \n",
    "                                                                       # This helps making the data less complicated to use.\n",
    "# Custom function below is used to display performance measures\n",
    "# Required inputs are the model name and the two test data objects (X,y)\n",
    "def class_perf_measures(model,X_test,y_test):\n",
    "    # Create empty lists to store metric values created within loop\n",
    "    TP = []\n",
    "    TN = []\n",
    "    FP = []\n",
    "    FN = []\n",
    "    recall = []\n",
    "    precision = []\n",
    "    F1 = []\n",
    "    Accuracy = []\n",
    "    MSE = []\n",
    "    \n",
    "    # Create list of probability threshold values to loop over\n",
    "    threshold = np.arange(0,1.1,0.1).tolist()\n",
    "\n",
    "    # Start loop\n",
    "    for i in threshold:\n",
    "\n",
    "        # Create class assignments given threshold value\n",
    "        y_test_pred_class = (model.predict_proba(X_test)[:,1] >= i).astype(int)\n",
    "\n",
    "        # Append lists with metric values\n",
    "        TP.append(metrics.confusion_matrix(y_test, y_test_pred_class)[1,1])\n",
    "        TN.append(metrics.confusion_matrix(y_test, y_test_pred_class)[0,0])\n",
    "        FP.append(metrics.confusion_matrix(y_test, y_test_pred_class)[0,1])\n",
    "        FN.append(metrics.confusion_matrix(y_test, y_test_pred_class)[1,0])\n",
    "        recall.append(metrics.recall_score(y_test, y_test_pred_class).round(3))\n",
    "        precision.append(metrics.precision_score(y_test, y_test_pred_class).round(3))\n",
    "        F1.append(metrics.f1_score(y_test, y_test_pred_class).round(2))\n",
    "        Accuracy.append(metrics.accuracy_score(y_test, y_test_pred_class).round(2))\n",
    "        MSE.append(mean_squared_error(y_test, y_test_pred_class).round(2))\n",
    "\n",
    "    # Create dataframe\n",
    "    result = pd.DataFrame({\"threshold\":threshold,\n",
    "                           \"TP\":TP,\n",
    "                           \"TN\":TN,\n",
    "                           \"FP\":FP,\n",
    "                           \"FN\":FN,\n",
    "                           \"Precision\":precision,\n",
    "                           \"Recall\":recall,\n",
    "                           \"Accuracy\": Accuracy,\n",
    "                           \"MSE\": MSE\n",
    "                          })\n",
    "\n",
    "    # Let's look at our dataframe\n",
    "    return result\n",
    "\n"
   ]
  },
  {
   "cell_type": "code",
   "execution_count": 2,
   "id": "521b0f5f",
   "metadata": {},
   "outputs": [],
   "source": [
    "# to avoid warning\n",
    "import warnings\n",
    "warnings.filterwarnings('ignore')"
   ]
  },
  {
   "cell_type": "markdown",
   "id": "98c61b5a",
   "metadata": {},
   "source": [
    "# 4. Data Exploration/Prep <a class=\"anchor\" id=\"data-prep\"></a>\n",
    "* [Go to Top of Notebook](#table-of-content)"
   ]
  },
  {
   "cell_type": "markdown",
   "id": "b6fed140",
   "metadata": {},
   "source": [
    "- [X] [Initial Evaluation](#initial-evaluation)\n",
    "- [X] [Initial Cleanup - dupes, missing values](#missing-values)\n",
    "- [X] [Outlier Detection & Treatment](#outliers)\n",
    "- [X] [Feature Selection](#feature-selection)\n",
    "- [X] [Data Partitioning](#data-split)\n",
    "- [X] [Data Normalization](#normalization)"
   ]
  },
  {
   "cell_type": "markdown",
   "id": "d98f894b",
   "metadata": {},
   "source": [
    "> **Initial Evaluation** <a class=\"anchor\" id=\"initial-evaluation\"></a>"
   ]
  },
  {
   "cell_type": "code",
   "execution_count": 4,
   "id": "78933cd8",
   "metadata": {},
   "outputs": [
    {
     "data": {
      "text/html": [
       "<div>\n",
       "<style scoped>\n",
       "    .dataframe tbody tr th:only-of-type {\n",
       "        vertical-align: middle;\n",
       "    }\n",
       "\n",
       "    .dataframe tbody tr th {\n",
       "        vertical-align: top;\n",
       "    }\n",
       "\n",
       "    .dataframe thead th {\n",
       "        text-align: right;\n",
       "    }\n",
       "</style>\n",
       "<table border=\"1\" class=\"dataframe\">\n",
       "  <thead>\n",
       "    <tr style=\"text-align: right;\">\n",
       "      <th></th>\n",
       "      <th>approved</th>\n",
       "      <th>gender</th>\n",
       "      <th>age</th>\n",
       "      <th>debt</th>\n",
       "      <th>married</th>\n",
       "      <th>bank_customer</th>\n",
       "      <th>emp_industrial</th>\n",
       "      <th>emp_materials</th>\n",
       "      <th>emp_consumer_services</th>\n",
       "      <th>emp_healthcare</th>\n",
       "      <th>emp_financials</th>\n",
       "      <th>emp_utilities</th>\n",
       "      <th>emp_education</th>\n",
       "      <th>ethnicity_white</th>\n",
       "      <th>ethnicity_black</th>\n",
       "      <th>ethnicity_latino</th>\n",
       "      <th>ethnicity_asian</th>\n",
       "      <th>ethnicity_other</th>\n",
       "      <th>years_employed</th>\n",
       "      <th>prior_default</th>\n",
       "      <th>employed</th>\n",
       "      <th>credit_score</th>\n",
       "      <th>drivers_license</th>\n",
       "      <th>citizen_bybirth</th>\n",
       "      <th>citizen_other</th>\n",
       "      <th>citizen_temporary</th>\n",
       "      <th>Income</th>\n",
       "    </tr>\n",
       "  </thead>\n",
       "  <tbody>\n",
       "    <tr>\n",
       "      <th>685</th>\n",
       "      <td>0</td>\n",
       "      <td>1</td>\n",
       "      <td>21.08</td>\n",
       "      <td>10.09</td>\n",
       "      <td>0</td>\n",
       "      <td>0</td>\n",
       "      <td>0</td>\n",
       "      <td>0</td>\n",
       "      <td>0</td>\n",
       "      <td>0</td>\n",
       "      <td>0</td>\n",
       "      <td>0</td>\n",
       "      <td>1</td>\n",
       "      <td>0</td>\n",
       "      <td>1</td>\n",
       "      <td>0</td>\n",
       "      <td>0</td>\n",
       "      <td>0</td>\n",
       "      <td>1.25</td>\n",
       "      <td>0</td>\n",
       "      <td>0</td>\n",
       "      <td>0</td>\n",
       "      <td>0</td>\n",
       "      <td>1</td>\n",
       "      <td>0</td>\n",
       "      <td>0</td>\n",
       "      <td>0</td>\n",
       "    </tr>\n",
       "    <tr>\n",
       "      <th>686</th>\n",
       "      <td>0</td>\n",
       "      <td>0</td>\n",
       "      <td>22.67</td>\n",
       "      <td>0.75</td>\n",
       "      <td>1</td>\n",
       "      <td>1</td>\n",
       "      <td>1</td>\n",
       "      <td>0</td>\n",
       "      <td>0</td>\n",
       "      <td>0</td>\n",
       "      <td>0</td>\n",
       "      <td>0</td>\n",
       "      <td>0</td>\n",
       "      <td>1</td>\n",
       "      <td>0</td>\n",
       "      <td>0</td>\n",
       "      <td>0</td>\n",
       "      <td>0</td>\n",
       "      <td>2.00</td>\n",
       "      <td>0</td>\n",
       "      <td>1</td>\n",
       "      <td>2</td>\n",
       "      <td>1</td>\n",
       "      <td>1</td>\n",
       "      <td>0</td>\n",
       "      <td>0</td>\n",
       "      <td>394</td>\n",
       "    </tr>\n",
       "    <tr>\n",
       "      <th>687</th>\n",
       "      <td>0</td>\n",
       "      <td>0</td>\n",
       "      <td>25.25</td>\n",
       "      <td>13.50</td>\n",
       "      <td>0</td>\n",
       "      <td>0</td>\n",
       "      <td>0</td>\n",
       "      <td>0</td>\n",
       "      <td>0</td>\n",
       "      <td>1</td>\n",
       "      <td>0</td>\n",
       "      <td>0</td>\n",
       "      <td>0</td>\n",
       "      <td>0</td>\n",
       "      <td>0</td>\n",
       "      <td>1</td>\n",
       "      <td>0</td>\n",
       "      <td>0</td>\n",
       "      <td>2.00</td>\n",
       "      <td>0</td>\n",
       "      <td>1</td>\n",
       "      <td>1</td>\n",
       "      <td>1</td>\n",
       "      <td>1</td>\n",
       "      <td>0</td>\n",
       "      <td>0</td>\n",
       "      <td>1</td>\n",
       "    </tr>\n",
       "    <tr>\n",
       "      <th>688</th>\n",
       "      <td>0</td>\n",
       "      <td>1</td>\n",
       "      <td>17.92</td>\n",
       "      <td>0.20</td>\n",
       "      <td>1</td>\n",
       "      <td>1</td>\n",
       "      <td>0</td>\n",
       "      <td>0</td>\n",
       "      <td>1</td>\n",
       "      <td>0</td>\n",
       "      <td>0</td>\n",
       "      <td>0</td>\n",
       "      <td>0</td>\n",
       "      <td>1</td>\n",
       "      <td>0</td>\n",
       "      <td>0</td>\n",
       "      <td>0</td>\n",
       "      <td>0</td>\n",
       "      <td>0.04</td>\n",
       "      <td>0</td>\n",
       "      <td>0</td>\n",
       "      <td>0</td>\n",
       "      <td>0</td>\n",
       "      <td>1</td>\n",
       "      <td>0</td>\n",
       "      <td>0</td>\n",
       "      <td>750</td>\n",
       "    </tr>\n",
       "    <tr>\n",
       "      <th>689</th>\n",
       "      <td>0</td>\n",
       "      <td>1</td>\n",
       "      <td>35.00</td>\n",
       "      <td>3.38</td>\n",
       "      <td>1</td>\n",
       "      <td>1</td>\n",
       "      <td>1</td>\n",
       "      <td>0</td>\n",
       "      <td>0</td>\n",
       "      <td>0</td>\n",
       "      <td>0</td>\n",
       "      <td>0</td>\n",
       "      <td>0</td>\n",
       "      <td>0</td>\n",
       "      <td>1</td>\n",
       "      <td>0</td>\n",
       "      <td>0</td>\n",
       "      <td>0</td>\n",
       "      <td>8.29</td>\n",
       "      <td>0</td>\n",
       "      <td>0</td>\n",
       "      <td>0</td>\n",
       "      <td>1</td>\n",
       "      <td>1</td>\n",
       "      <td>0</td>\n",
       "      <td>0</td>\n",
       "      <td>0</td>\n",
       "    </tr>\n",
       "  </tbody>\n",
       "</table>\n",
       "</div>"
      ],
      "text/plain": [
       "     approved  gender   age  debt  married  bank_customer  emp_industrial  \\\n",
       "685         0       1 21.08 10.09        0              0               0   \n",
       "686         0       0 22.67  0.75        1              1               1   \n",
       "687         0       0 25.25 13.50        0              0               0   \n",
       "688         0       1 17.92  0.20        1              1               0   \n",
       "689         0       1 35.00  3.38        1              1               1   \n",
       "\n",
       "     emp_materials  emp_consumer_services  emp_healthcare  emp_financials  \\\n",
       "685              0                      0               0               0   \n",
       "686              0                      0               0               0   \n",
       "687              0                      0               1               0   \n",
       "688              0                      1               0               0   \n",
       "689              0                      0               0               0   \n",
       "\n",
       "     emp_utilities  emp_education  ethnicity_white  ethnicity_black  \\\n",
       "685              0              1                0                1   \n",
       "686              0              0                1                0   \n",
       "687              0              0                0                0   \n",
       "688              0              0                1                0   \n",
       "689              0              0                0                1   \n",
       "\n",
       "     ethnicity_latino  ethnicity_asian  ethnicity_other  years_employed  \\\n",
       "685                 0                0                0            1.25   \n",
       "686                 0                0                0            2.00   \n",
       "687                 1                0                0            2.00   \n",
       "688                 0                0                0            0.04   \n",
       "689                 0                0                0            8.29   \n",
       "\n",
       "     prior_default  employed  credit_score  drivers_license  citizen_bybirth  \\\n",
       "685              0         0             0                0                1   \n",
       "686              0         1             2                1                1   \n",
       "687              0         1             1                1                1   \n",
       "688              0         0             0                0                1   \n",
       "689              0         0             0                1                1   \n",
       "\n",
       "     citizen_other  citizen_temporary  Income  \n",
       "685              0                  0       0  \n",
       "686              0                  0     394  \n",
       "687              0                  0       1  \n",
       "688              0                  0     750  \n",
       "689              0                  0       0  "
      ]
     },
     "execution_count": 4,
     "metadata": {},
     "output_type": "execute_result"
    }
   ],
   "source": [
    "# Read in data - see what we're dealing with\n",
    "df = pd.read_csv('loan_approval.csv')\n",
    "df.tail()"
   ]
  },
  {
   "cell_type": "markdown",
   "id": "86d8fb74",
   "metadata": {},
   "source": [
    "> **Initial Evaluation: Notes on Findings**<br><br>\n",
    ">**<span style=\"color:red\"><b>Observations:**<br>\n",
    ">>- **There are 690 records. 25 features which consist of 21 categorical variables and 4 numerical variable (not including target variables which is 'approved')**\n",
    ">>-**Target:** label (1 if the loan is approved, 0 if the loan is NOT approved)<br><br>\n",
    "\n",
    ">[Go to Data Prep Outline](#data-prep)"
   ]
  },
  {
   "cell_type": "markdown",
   "id": "5023a5f7",
   "metadata": {},
   "source": [
    "> **Initial Cleanup - dupes, missing values** <a class=\"anchor\" id=\"missing-values\"></a>"
   ]
  },
  {
   "cell_type": "markdown",
   "id": "95b74232",
   "metadata": {},
   "source": [
    "> **Initial Cleanup: Summary of Actions**<br><br>\n",
    "No missing values or dupes\n",
    "\n",
    ">[Go to Data Prep Outline](#data-prep)"
   ]
  },
  {
   "cell_type": "markdown",
   "id": "9a68a03e",
   "metadata": {},
   "source": [
    "> **Outlier Detection & Treatment** <a class=\"anchor\" id=\"outliers\"></a>"
   ]
  },
  {
   "cell_type": "markdown",
   "id": "6e809eb9",
   "metadata": {},
   "source": [
    "> **Outlier Detection: Notes/Summary of Actions**<br>\n",
    "<br>\n",
    "For me there is no need to check outliers for the categorical variables. So, I will check for the numerical variable features\n",
    "which are age, debt, years_employed and Income.\n",
    "\n",
    ">[Go to Data Prep Outline](#data-prep)"
   ]
  },
  {
   "cell_type": "code",
   "execution_count": 30,
   "id": "b661ad38",
   "metadata": {
    "scrolled": true
   },
   "outputs": [
    {
     "data": {
      "text/plain": [
       "<AxesSubplot:xlabel='age'>"
      ]
     },
     "execution_count": 30,
     "metadata": {},
     "output_type": "execute_result"
    },
    {
     "data": {
      "image/png": "[encoded data removed]",
      "text/plain": [
       "<Figure size 432x288 with 1 Axes>"
      ]
     },
     "metadata": {
      "needs_background": "light"
     },
     "output_type": "display_data"
    }
   ],
   "source": [
    "# Using this instead of histogram to see the outliers clearer \n",
    "sns.boxplot(df['age']) "
   ]
  },
  {
   "cell_type": "code",
   "execution_count": 31,
   "id": "5bc6066b",
   "metadata": {
    "scrolled": true
   },
   "outputs": [
    {
     "data": {
      "text/plain": [
       "<AxesSubplot:xlabel='debt'>"
      ]
     },
     "execution_count": 31,
     "metadata": {},
     "output_type": "execute_result"
    },
    {
     "data": {
      "image/png": "[encoded data removed]",
      "text/plain": [
       "<Figure size 432x288 with 1 Axes>"
      ]
     },
     "metadata": {
      "needs_background": "light"
     },
     "output_type": "display_data"
    }
   ],
   "source": [
    "# Using this instead of histogram to see the outliers clearer \n",
    "sns.boxplot(df['debt']) "
   ]
  },
  {
   "cell_type": "code",
   "execution_count": 32,
   "id": "043e9129",
   "metadata": {
    "scrolled": true
   },
   "outputs": [
    {
     "data": {
      "text/plain": [
       "<AxesSubplot:xlabel='years_employed'>"
      ]
     },
     "execution_count": 32,
     "metadata": {},
     "output_type": "execute_result"
    },
    {
     "data": {
      "image/png": "[encoded data removed]",
      "text/plain": [
       "<Figure size 432x288 with 1 Axes>"
      ]
     },
     "metadata": {
      "needs_background": "light"
     },
     "output_type": "display_data"
    }
   ],
   "source": [
    "# Using this instead of histogram to see the outliers clearer \n",
    "sns.boxplot(df['years_employed']) "
   ]
  },
  {
   "cell_type": "code",
   "execution_count": 34,
   "id": "08d969b2",
   "metadata": {
    "scrolled": true
   },
   "outputs": [
    {
     "data": {
      "text/plain": [
       "<AxesSubplot:xlabel='Income'>"
      ]
     },
     "execution_count": 34,
     "metadata": {},
     "output_type": "execute_result"
    },
    {
     "data": {
      "image/png": "[encoded data removed]",
      "text/plain": [
       "<Figure size 432x288 with 1 Axes>"
      ]
     },
     "metadata": {
      "needs_background": "light"
     },
     "output_type": "display_data"
    }
   ],
   "source": [
    "# Using this instead of histogram to see the outliers clearer \n",
    "sns.boxplot(df['Income']) "
   ]
  },
  {
   "cell_type": "markdown",
   "id": "db6abc1b",
   "metadata": {},
   "source": [
    "### <span style=\"color:red\"><b>NOTE:<br>\n",
    "I found some outliers from all these 4 features. However, this is not an issue to focus right now so, I will ignore these outliers just for this problem set."
   ]
  },
  {
   "cell_type": "markdown",
   "id": "f90863c3",
   "metadata": {},
   "source": [
    "> **Feature Selection** <a class=\"anchor\" id=\"feature-selection\"></a>\n",
    "<br>\n",
    "\n",
    ">**To Do:**<br>\n",
    "> 1. Include everything<br>\n",
    "\n",
    "\n",
    ">[Go to Data Prep Outline](#data-prep)"
   ]
  },
  {
   "cell_type": "markdown",
   "id": "024697a3",
   "metadata": {},
   "source": [
    "> **Data Partitioning** <a class=\"anchor\" id=\"data-split\"></a>\n",
    "<br>\n",
    ">To Do:<br>\n",
    ">1. Put all potential predictor variables into new object called 'X'\n",
    ">2. Put target variable in new object called 'y'\n",
    ">3. Partition data into training set and testing set<br>\n",
    "\n",
    ">This is simple for now - may need to add more sampling complexity in future"
   ]
  },
  {
   "cell_type": "code",
   "execution_count": 6,
   "id": "1ce07db1",
   "metadata": {},
   "outputs": [],
   "source": [
    "target = ['approved']\n",
    "\n",
    "X = df.drop(target,axis=1)\n",
    "y = df[target]\n",
    "\n",
    "# Split data\n",
    "X_train,X_test,y_train,y_test = train_test_split(X,y, test_size=0.3,random_state=10)"
   ]
  },
  {
   "cell_type": "code",
   "execution_count": 7,
   "id": "763de2a2",
   "metadata": {},
   "outputs": [
    {
     "data": {
      "text/plain": [
       "approved   0.45\n",
       "dtype: float64"
      ]
     },
     "execution_count": 7,
     "metadata": {},
     "output_type": "execute_result"
    }
   ],
   "source": [
    "y_test.sum()/len(y_test)"
   ]
  },
  {
   "cell_type": "code",
   "execution_count": 8,
   "id": "2ae6932d",
   "metadata": {},
   "outputs": [
    {
     "data": {
      "text/plain": [
       "approved   0.44\n",
       "dtype: float64"
      ]
     },
     "execution_count": 8,
     "metadata": {},
     "output_type": "execute_result"
    }
   ],
   "source": [
    "y_train.sum()/len(y_train)"
   ]
  },
  {
   "cell_type": "markdown",
   "id": "8c9ab694",
   "metadata": {},
   "source": [
    "### <span style=\"color:red\"><b>NOTE:<br>\n",
    "**Choose random_state= 10** due to the fact that this data set has too little data and can easily cause some bias once performing any prediction. After randomly picking this number, the y_test ratio is relatively close to y_train ratio compare to other random_state number. Therefore, I pick this number as I assume it causes less bias.  "
   ]
  },
  {
   "cell_type": "markdown",
   "id": "26b939e2",
   "metadata": {},
   "source": [
    ">[Go to Data Prep Outline](#data-prep)"
   ]
  },
  {
   "cell_type": "markdown",
   "id": "a55c3e38",
   "metadata": {},
   "source": [
    "> **Data Normalization** <a class=\"anchor\" id=\"normalization\"></a>\n",
    "<br><br>\n",
    ">**Note:**<br>\n",
    ">We do this AFTER splitting the data because we only want to use summary stats<br>\n",
    ">from the TRAINING data to normalize BOTH TRAIN and TEST data<br>\n",
    "<br><br>\n",
    ">OPTIONAL - though it is a good idea to get in the habit of doing this when working with the kNN classifier"
   ]
  },
  {
   "cell_type": "code",
   "execution_count": 9,
   "id": "c651d344",
   "metadata": {},
   "outputs": [],
   "source": [
    "# Normalize predictor variables using Z-Scores.\n",
    "# Use means and standard deviations of features as calculated in the TRAINING DATA\n",
    "# New values are centered at 0.  Values reflect the number of standard deviations\n",
    "# each record is above or below the mean.\n",
    "\n",
    "features_means = X_train.mean()\n",
    "features_std = X_train.std()\n",
    "\n",
    "X_train_norm = (X_train - features_means)/features_std\n",
    "X_test_norm = (X_test - features_means)/features_std"
   ]
  },
  {
   "cell_type": "markdown",
   "id": "2760b6c0",
   "metadata": {},
   "source": [
    "# <span style=\"color:red\"><b>NOTE:\n",
    "### I decided to create new name for X_train and X_test as X_train_norm and X_test_norm incase I have to recheck the predicted value with actual data before normalization as the predicted value contain anomoly value. <br>\n",
    "\n",
    ">[Go to Data Prep Outline](#data-prep)\n",
    "---"
   ]
  },
  {
   "cell_type": "markdown",
   "id": "95bbdd10",
   "metadata": {},
   "source": [
    "# 5. Machine Learning <a class=\"anchor\" id=\"ml-model\"></a>\n",
    "\n",
    "- [X] [kNN](#first-model)\n",
    "- [X] [Logistic Model](#second-model)\n",
    "- [ ] [Performance Evaluation](#third-model)\n",
    "\n",
    "\n",
    "* [Go to Top](#table-of-content)"
   ]
  },
  {
   "cell_type": "markdown",
   "id": "76b10d71",
   "metadata": {},
   "source": [
    "> **kNN** <a class=\"anchor\" id=\"first-model\"></a>\n",
    "<br>\n",
    ">Instructions:<br>\n",
    ">1. Fit numerous kNN models using different values for k. <br>\n",
    ">2. Choose the \"best\" value for \"k\" based on Accuracy"
   ]
  },
  {
   "cell_type": "code",
   "execution_count": 11,
   "id": "01b2888b",
   "metadata": {},
   "outputs": [
    {
     "data": {
      "text/html": [
       "<div>\n",
       "<style scoped>\n",
       "    .dataframe tbody tr th:only-of-type {\n",
       "        vertical-align: middle;\n",
       "    }\n",
       "\n",
       "    .dataframe tbody tr th {\n",
       "        vertical-align: top;\n",
       "    }\n",
       "\n",
       "    .dataframe thead th {\n",
       "        text-align: right;\n",
       "    }\n",
       "</style>\n",
       "<table border=\"1\" class=\"dataframe\">\n",
       "  <thead>\n",
       "    <tr style=\"text-align: right;\">\n",
       "      <th></th>\n",
       "      <th>k</th>\n",
       "      <th>Accuracy</th>\n",
       "    </tr>\n",
       "  </thead>\n",
       "  <tbody>\n",
       "    <tr>\n",
       "      <th>0</th>\n",
       "      <td>1</td>\n",
       "      <td>0.80</td>\n",
       "    </tr>\n",
       "    <tr>\n",
       "      <th>1</th>\n",
       "      <td>3</td>\n",
       "      <td>0.81</td>\n",
       "    </tr>\n",
       "    <tr>\n",
       "      <th>2</th>\n",
       "      <td>5</td>\n",
       "      <td>0.82</td>\n",
       "    </tr>\n",
       "    <tr>\n",
       "      <th>3</th>\n",
       "      <td>7</td>\n",
       "      <td>0.80</td>\n",
       "    </tr>\n",
       "    <tr>\n",
       "      <th>4</th>\n",
       "      <td>9</td>\n",
       "      <td>0.80</td>\n",
       "    </tr>\n",
       "    <tr>\n",
       "      <th>5</th>\n",
       "      <td>11</td>\n",
       "      <td>0.80</td>\n",
       "    </tr>\n",
       "    <tr>\n",
       "      <th>6</th>\n",
       "      <td>13</td>\n",
       "      <td>0.81</td>\n",
       "    </tr>\n",
       "    <tr>\n",
       "      <th>7</th>\n",
       "      <td>15</td>\n",
       "      <td>0.81</td>\n",
       "    </tr>\n",
       "    <tr>\n",
       "      <th>8</th>\n",
       "      <td>17</td>\n",
       "      <td>0.81</td>\n",
       "    </tr>\n",
       "    <tr>\n",
       "      <th>9</th>\n",
       "      <td>19</td>\n",
       "      <td>0.81</td>\n",
       "    </tr>\n",
       "    <tr>\n",
       "      <th>10</th>\n",
       "      <td>21</td>\n",
       "      <td>0.81</td>\n",
       "    </tr>\n",
       "  </tbody>\n",
       "</table>\n",
       "</div>"
      ],
      "text/plain": [
       "     k  Accuracy\n",
       "0    1      0.80\n",
       "1    3      0.81\n",
       "2    5      0.82\n",
       "3    7      0.80\n",
       "4    9      0.80\n",
       "5   11      0.80\n",
       "6   13      0.81\n",
       "7   15      0.81\n",
       "8   17      0.81\n",
       "9   19      0.81\n",
       "10  21      0.81"
      ]
     },
     "execution_count": 11,
     "metadata": {},
     "output_type": "execute_result"
    }
   ],
   "source": [
    "# 1. train a classifier for different values of k\n",
    "results = []\n",
    "for k in [1,3,5,7,9,11,13,15,17,19,21]:\n",
    "    knn = KNeighborsClassifier(n_neighbors=k)\n",
    "    knn.fit(X_train_norm,y_train.values.ravel())\n",
    "    \n",
    "    # Get predicted class\n",
    "    y_pred_class = knn.predict(X_test_norm)\n",
    "    \n",
    "    # Put Accuracy Score in results object\n",
    "    results.append({'k':k,\n",
    "                    'Accuracy':metrics.accuracy_score(y_test,y_pred_class)\n",
    "                   }\n",
    "                  )\n",
    "# Put results from above into a Pandas Dataframe\n",
    "results_df = pd.DataFrame(results)\n",
    "results_df"
   ]
  },
  {
   "cell_type": "markdown",
   "id": "379f2264",
   "metadata": {},
   "source": [
    "><span style=\"color:red\"><b> **Decision:**<br>\n",
    "\n",
    "Based on the results above, I will set my number of neighbors (k) to 5 as this is the lowest value that achieves the highest accuracy value<br>\n",
    "\n",
    " ### <span style=\"color:red\"><b>NOTE: The higher k, the more underfitting issue to arise.<b>\n",
    "\n",
    ">**Re-run kNN using the value selected above:**<br>\n",
    "For this final run of kNN, we will produce a table of performance measures across a range of probability threshold values"
   ]
  },
  {
   "cell_type": "code",
   "execution_count": 13,
   "id": "d67a5020",
   "metadata": {},
   "outputs": [
    {
     "name": "stdout",
     "output_type": "stream",
     "text": [
      "Training data Accuracy: 0.86\n",
      "Testing data Accuracy: 0.82\n"
     ]
    }
   ],
   "source": [
    "knn = KNeighborsClassifier(n_neighbors=5)\n",
    "knn.fit(X_train_norm,y_train.values.ravel())\n",
    "\n",
    "# Let's do a quick check to see if we have to worry about problems of overfitting.\n",
    "# Remember!  Small values for \"k\" in kNN tend to lead to overfitting.\n",
    "# Large value for \"k\" in kNN tend to produce underfit models\n",
    "y_train_pred_class = knn.predict(X_train_norm)\n",
    "y_test_pred_class = knn.predict(X_test_norm)\n",
    "\n",
    "print('Training data Accuracy:', metrics.accuracy_score(y_train,y_train_pred_class).round(2))\n",
    "print('Testing data Accuracy:', metrics.accuracy_score(y_test,y_test_pred_class).round(2))\n"
   ]
  },
  {
   "cell_type": "markdown",
   "id": "91e91d06",
   "metadata": {},
   "source": [
    "#### NOTE: No over+underfitted problem as both training and testing data have almost the same value ==> Deployable model"
   ]
  },
  {
   "cell_type": "markdown",
   "id": "b67806e5",
   "metadata": {},
   "source": [
    ">**Logistic Model:**<br>\n",
    ">Let's produce the same table above but this time using a Logistic Model"
   ]
  },
  {
   "cell_type": "code",
   "execution_count": 14,
   "id": "d62be5a3",
   "metadata": {},
   "outputs": [
    {
     "name": "stdout",
     "output_type": "stream",
     "text": [
      "Training data Accuracy: 0.88\n",
      "Testing data Accuracy: 0.87\n"
     ]
    }
   ],
   "source": [
    "lr_model = LogisticRegression()\n",
    "lr_model.fit(X_train_norm,y_train.values.ravel())\n",
    "\n",
    "# Let's do a quick check to see if we have to worry about problems of overfitting.\n",
    "y_train_pred_class = lr_model.predict(X_train_norm)\n",
    "y_test_pred_class = lr_model.predict(X_test_norm)\n",
    "\n",
    "print('Training data Accuracy:', metrics.accuracy_score(y_train,y_train_pred_class).round(2))\n",
    "print('Testing data Accuracy:', metrics.accuracy_score(y_test,y_test_pred_class).round(2))"
   ]
  },
  {
   "cell_type": "markdown",
   "id": "a93cb90b",
   "metadata": {},
   "source": [
    ">**Winning Model:**<br>\n",
    "We need to quickly decide which modeling framework to go forward with<br>\n",
    "To keep this simple - I'm going to use AUC and will choose the model that gives us the highest value"
   ]
  },
  {
   "cell_type": "code",
   "execution_count": 15,
   "id": "7b50f2da",
   "metadata": {},
   "outputs": [
    {
     "data": {
      "image/png": "[encoded data removed]",
      "text/plain": [
       "<Figure size 432x288 with 1 Axes>"
      ]
     },
     "metadata": {
      "needs_background": "light"
     },
     "output_type": "display_data"
    },
    {
     "data": {
      "image/png": "[encoded data removed]",
      "text/plain": [
       "<Figure size 432x288 with 1 Axes>"
      ]
     },
     "metadata": {
      "needs_background": "light"
     },
     "output_type": "display_data"
    }
   ],
   "source": [
    "# ROC curve for kNN\n",
    "metrics.plot_roc_curve(knn,X_test_norm,y_test)\n",
    "plt.show()\n",
    "\n",
    "# ROC curve for Logistic Model\n",
    "metrics.plot_roc_curve(lr_model,X_test_norm,y_test)\n",
    "plt.show()"
   ]
  },
  {
   "cell_type": "markdown",
   "id": "3bb30d8c",
   "metadata": {},
   "source": [
    "><span style=\"color:red\"><b>**Decision Point:**<br>\n",
    "    \n",
    "**The winner is our Logistic Model!!!** This is because AUC is highest for our Logistic Model (0.94 vs 0.89!) so I will use that model to further evaluate probability thresholds and corresponding performance measures"
   ]
  },
  {
   "cell_type": "code",
   "execution_count": 16,
   "id": "4dc22455",
   "metadata": {},
   "outputs": [
    {
     "data": {
      "text/html": [
       "<div>\n",
       "<style scoped>\n",
       "    .dataframe tbody tr th:only-of-type {\n",
       "        vertical-align: middle;\n",
       "    }\n",
       "\n",
       "    .dataframe tbody tr th {\n",
       "        vertical-align: top;\n",
       "    }\n",
       "\n",
       "    .dataframe thead th {\n",
       "        text-align: right;\n",
       "    }\n",
       "</style>\n",
       "<table border=\"1\" class=\"dataframe\">\n",
       "  <thead>\n",
       "    <tr style=\"text-align: right;\">\n",
       "      <th></th>\n",
       "      <th>threshold</th>\n",
       "      <th>TP</th>\n",
       "      <th>TN</th>\n",
       "      <th>FP</th>\n",
       "      <th>FN</th>\n",
       "      <th>Precision</th>\n",
       "      <th>Recall</th>\n",
       "      <th>Accuracy</th>\n",
       "      <th>MSE</th>\n",
       "    </tr>\n",
       "  </thead>\n",
       "  <tbody>\n",
       "    <tr>\n",
       "      <th>0</th>\n",
       "      <td>0.00</td>\n",
       "      <td>94</td>\n",
       "      <td>0</td>\n",
       "      <td>113</td>\n",
       "      <td>0</td>\n",
       "      <td>0.45</td>\n",
       "      <td>1.00</td>\n",
       "      <td>0.45</td>\n",
       "      <td>0.55</td>\n",
       "    </tr>\n",
       "    <tr>\n",
       "      <th>1</th>\n",
       "      <td>0.10</td>\n",
       "      <td>93</td>\n",
       "      <td>74</td>\n",
       "      <td>39</td>\n",
       "      <td>1</td>\n",
       "      <td>0.70</td>\n",
       "      <td>0.99</td>\n",
       "      <td>0.81</td>\n",
       "      <td>0.19</td>\n",
       "    </tr>\n",
       "    <tr>\n",
       "      <th>2</th>\n",
       "      <td>0.20</td>\n",
       "      <td>93</td>\n",
       "      <td>89</td>\n",
       "      <td>24</td>\n",
       "      <td>1</td>\n",
       "      <td>0.80</td>\n",
       "      <td>0.99</td>\n",
       "      <td>0.88</td>\n",
       "      <td>0.12</td>\n",
       "    </tr>\n",
       "    <tr>\n",
       "      <th>3</th>\n",
       "      <td>0.30</td>\n",
       "      <td>87</td>\n",
       "      <td>93</td>\n",
       "      <td>20</td>\n",
       "      <td>7</td>\n",
       "      <td>0.81</td>\n",
       "      <td>0.93</td>\n",
       "      <td>0.87</td>\n",
       "      <td>0.13</td>\n",
       "    </tr>\n",
       "    <tr>\n",
       "      <th>4</th>\n",
       "      <td>0.40</td>\n",
       "      <td>83</td>\n",
       "      <td>97</td>\n",
       "      <td>16</td>\n",
       "      <td>11</td>\n",
       "      <td>0.84</td>\n",
       "      <td>0.88</td>\n",
       "      <td>0.87</td>\n",
       "      <td>0.13</td>\n",
       "    </tr>\n",
       "    <tr>\n",
       "      <th>5</th>\n",
       "      <td>0.50</td>\n",
       "      <td>80</td>\n",
       "      <td>100</td>\n",
       "      <td>13</td>\n",
       "      <td>14</td>\n",
       "      <td>0.86</td>\n",
       "      <td>0.85</td>\n",
       "      <td>0.87</td>\n",
       "      <td>0.13</td>\n",
       "    </tr>\n",
       "    <tr>\n",
       "      <th>6</th>\n",
       "      <td>0.60</td>\n",
       "      <td>75</td>\n",
       "      <td>102</td>\n",
       "      <td>11</td>\n",
       "      <td>19</td>\n",
       "      <td>0.87</td>\n",
       "      <td>0.80</td>\n",
       "      <td>0.86</td>\n",
       "      <td>0.14</td>\n",
       "    </tr>\n",
       "    <tr>\n",
       "      <th>7</th>\n",
       "      <td>0.70</td>\n",
       "      <td>71</td>\n",
       "      <td>103</td>\n",
       "      <td>10</td>\n",
       "      <td>23</td>\n",
       "      <td>0.88</td>\n",
       "      <td>0.76</td>\n",
       "      <td>0.84</td>\n",
       "      <td>0.16</td>\n",
       "    </tr>\n",
       "    <tr>\n",
       "      <th>8</th>\n",
       "      <td>0.80</td>\n",
       "      <td>63</td>\n",
       "      <td>104</td>\n",
       "      <td>9</td>\n",
       "      <td>31</td>\n",
       "      <td>0.88</td>\n",
       "      <td>0.67</td>\n",
       "      <td>0.81</td>\n",
       "      <td>0.19</td>\n",
       "    </tr>\n",
       "    <tr>\n",
       "      <th>9</th>\n",
       "      <td>0.90</td>\n",
       "      <td>42</td>\n",
       "      <td>111</td>\n",
       "      <td>2</td>\n",
       "      <td>52</td>\n",
       "      <td>0.95</td>\n",
       "      <td>0.45</td>\n",
       "      <td>0.74</td>\n",
       "      <td>0.26</td>\n",
       "    </tr>\n",
       "    <tr>\n",
       "      <th>10</th>\n",
       "      <td>1.00</td>\n",
       "      <td>0</td>\n",
       "      <td>113</td>\n",
       "      <td>0</td>\n",
       "      <td>94</td>\n",
       "      <td>0.00</td>\n",
       "      <td>0.00</td>\n",
       "      <td>0.55</td>\n",
       "      <td>0.45</td>\n",
       "    </tr>\n",
       "  </tbody>\n",
       "</table>\n",
       "</div>"
      ],
      "text/plain": [
       "    threshold  TP   TN   FP  FN  Precision  Recall  Accuracy  MSE\n",
       "0        0.00  94    0  113   0       0.45    1.00      0.45 0.55\n",
       "1        0.10  93   74   39   1       0.70    0.99      0.81 0.19\n",
       "2        0.20  93   89   24   1       0.80    0.99      0.88 0.12\n",
       "3        0.30  87   93   20   7       0.81    0.93      0.87 0.13\n",
       "4        0.40  83   97   16  11       0.84    0.88      0.87 0.13\n",
       "5        0.50  80  100   13  14       0.86    0.85      0.87 0.13\n",
       "6        0.60  75  102   11  19       0.87    0.80      0.86 0.14\n",
       "7        0.70  71  103   10  23       0.88    0.76      0.84 0.16\n",
       "8        0.80  63  104    9  31       0.88    0.67      0.81 0.19\n",
       "9        0.90  42  111    2  52       0.95    0.45      0.74 0.26\n",
       "10       1.00   0  113    0  94       0.00    0.00      0.55 0.45"
      ]
     },
     "execution_count": 16,
     "metadata": {},
     "output_type": "execute_result"
    }
   ],
   "source": [
    "class_perf_measures(lr_model,X_test_norm,y_test)"
   ]
  },
  {
   "cell_type": "markdown",
   "id": "9bebcc91",
   "metadata": {},
   "source": [
    "**Roughly interpretation** <br>\n",
    "FP= predicted yes while actual no ==> predicted that this loan application qualifies for receiving loan when it is not.  <br>\n",
    "FN= predicted no while actual yes ==> predicted that not to approve loan while actually this application qualifies."
   ]
  },
  {
   "cell_type": "markdown",
   "id": "d506ecf8",
   "metadata": {},
   "source": [
    "## <span style=\"color:red\"><b> **NOTE:**</span> \n",
    "> For this particular case, in my opinion, The costliest that it can be is on \n",
    "<span style=\"color:red\"><b> **the False Positive (FP)** </span>side. This is because if we were to give out loan to someone that not qualifies to receive it, it will create loss as there is a high chance that this is a uncollectable debt as the borrower cannot pay it back. There also will have a legal action that may come afterwards to collect the money the costomer owes. If this kind of court judgement spread out, rumors fly and that will discredit the reputation of the bank eventually. Therefore, I consider this mistake from FP is the costliest one.   \n",
    "    \n",
    "> However,  on <span style=\"color:red\"><b>  **the False Negative (FN)** </span> side. There are business costs from this mistake happenning as well. To not give out loan to someone who turns out to have the potential to pay it back, although the bank will breakeven interms of financial asset, it will lose its opportunity to gain the credibility that might come after this. For example, if you deny giving out loan to someone like Elon Musk, the opportunity cost that you will miss from his Tesla company is HUGEEEEE!! The bank may also, lose the potential customer to the other banks. Hence, there also downsides that the bank will have to meet if mistakenly not goving out loan to the right customer.  "
   ]
  },
  {
   "cell_type": "markdown",
   "id": "6270a488",
   "metadata": {},
   "source": [
    "## <span style=\"color:red\"><b>Decision:</span> \n",
    "    \n",
    "**1. Prob Threshold = 0.2**: \n",
    "    \n",
    "> Probabilitiy at 0.2 implies that a predicted probability must greater or equal than 20% for that record to be qualified and get loan approval.\n",
    "    \n",
    "> This threshold is interesting to pick as it has low False Negative number (only 1 found). Also, it has the highest accuracy of 88% and lowest MSE of 0.12. \n",
    "    \n",
    "- Threshold of 20% which required to predict positive outcomes, in this case 'positive' means 'approved' status for loan. This threshold considers low so I expect many of positive outcome which DO make sense! as higher benchmark implies there are higher standard to select the positive outcome (=1) and vice versa. There are a lot of true positive compare to other thresholds' true positive or 93 to be exact in class performance measure table. <br>  \n",
    "    \n",
    "    \n",
    "- In this threshold, there are 24 of the False Positive (FP). This number represents the predicted records that the this loan application qualifies for receiving loan when actually it is not. The potential costs to the business if we were to make these mistakes in practice are that mentioned above. From what I understand, 80% of precision means that approximately 2 of every 10 loan application in reality are missed by our model and that 2 labeled as getting a loan while infact, it is not qualifies. With these 20% of mistake, there are really high chance that the loss of bank's lending money will accumulate up and will directly impact the profit and credibility of the bank if the particular start up or customers keep gettingthe loan and cannot be able to pay the money they owe back. Those people are potentially becoming non-performing loan. The bank might end up wasting its money to spend on operation cost such as declaring bankruptcy and confiscating property. In addition, non-performing loan should not be over 25% and this 20% mistake is nearly there.<br>\n",
    "    [REFERNCE LINK](https://www.kasikornbank.com/th/IR/FAQs/financialinfo/030214%20-%20NPL%20definition.pdf )  \n",
    "    \n",
    "    \n",
    "- In this threshold, there are 1 of the False Negative (FN). This number represents the predicted records that according to these characteristics property, the bank should not approve loan to this application while actually this application qualifies and should be given out loan. From what I understand, 99% of recall means that approximately no applications in reality are missed by our model and do not receive the loan although they should get it. The potential costs to the business if we were to make these mistakes in practice are that mentioned above as well. However, in this case, little to none mistake from FN has been found. Therefore, the bank will not likely have to face the consequences of FN in this 20% threshold.  \n",
    "    \n",
    "    \n",
    "- And as stated above, I personally think that the costliest side is on the False Positive (FP) as its downside is way more severe than the False Negative (FN).\n",
    "    Therefore, I think I will not stick on this threshold as altohugh this threshold has no mistake on the False Negative side, there are other thresholds that have lower False Positive side that I can use as a benchmarks than this 20% threshold. I will move on to the next threshold instead. \n"
   ]
  },
  {
   "cell_type": "markdown",
   "id": "d4b2725c",
   "metadata": {},
   "source": [
    "**2. Prob Threshold = 0.5**: \n",
    "\n",
    "> Probabilitiy at 0.5 implies that a predicted probability must greater or equal than 50% for that record to be qualified and get loan approval.\n",
    "    \n",
    "> This threshold is interesting to pick as its almost equal number of the False Negative and the False Positive number (13 & 14, respectively). Also, it has the second highest accuracy of 87% and the second lowest MSE of 0.13. \n",
    "    \n",
    "- Threshold of 50% which required to predict positive outcomes, in this case 'positive' means 'approved' status for loan. This threshold is right in the middle of all thresholds. As higher benchmark implies there are higher standard to select the positive outcome (=1) and vice versa. There are a lot of true positive compare to other higher thresholds' true positive or 80 to be exact in class performance measure table. Which is not contrary to what I am expected. <br>  \n",
    "    \n",
    "    \n",
    "- In this threshold, there are 13 of the False Positive (FP). This number represents the predicted records that the this loan application qualifies for receiving loan when actually it is not. The potential costs to the business if we were to make these mistakes in practice are that mentioned above. From what I understand, 86% of precision means that approximately 14 of every 100 loan application in reality are missed by our model and that 14 labeled as getting a loan while infact, it is not qualifies. With these 14% of mistake, there are a chance that the bank will loss its lending money to the particular start up or customer that will not be able to pay the money they owe back. The bank might end up wasting its money to spend on operation cost such as declaring bankruptcy and confiscating property.  \n",
    "    \n",
    "    \n",
    "- In this threshold, there are 14 of the False Negative (FN). This number represents the predicted records that according to these characteristics property, the bank should not approve loan to this application while actually this application qualifies and should be given out loan. From what I understand, 85% of recall means that approximately 15 applications out of 100 in reality are missed by our model and do not receive the loan although they should get it. The potential costs to the business if we were to make these mistakes in practice are that mentioned above as well. There are 15% of chance to mistakenly approve wrong person loan so that means there also a 15% chance that the bank those who suppose to get the money and be successful in investing or doing their business. This means that the bank will tend to lose its prospective clients and their reputation. \n",
    "    \n",
    "- And as stated above, I personally think that the costliest side is on the False Positive (FP) as its downside is way more severe than the False Negative (FN).\n",
    "    Therefore, I think I will not stick on this threshold as the are another thresholds with less False Positive while having relativly reasonable False Negative as well. I will move on to the next threshold instead. \n"
   ]
  },
  {
   "cell_type": "markdown",
   "id": "1d1d0f99",
   "metadata": {},
   "source": [
    "**3. Prob Threshold = 0.6**: \n",
    "\n",
    "\n",
    "> Probabilitiy at 0.6 implies that a predicted probability must greater or equal than 60% for that record to be qualified and get loan approval.\n",
    "    \n",
    "> This threshold is interesting to pick as it has a proper number of the False Negative and the False Positive number that I want them to be (low of FP and some of FN with 11 & 19, respectively). Also, it has the third highest accuracy of 86% and the third lowest MSE of 0.14. \n",
    "    \n",
    "- Threshold of 60% which required to predict positive outcomes, in this case 'positive' means 'approved' status for loan. This threshold considers high so I expect not too many of positive outcome compare to other low thresholds which DO make sense! as higher benchmark implies there are higher standard to select the positive outcome (=1) and vice versa. There are a considered low amount of true positive compare to other thresholds' true positive or 75 to be exact in class performance measure table which is the opposite way around to the True Negative that have considered high number which are 102 to be exact. \n",
    "    \n",
    "\n",
    "- In this threshold, there are 11 of the False Positive (FP). This number represents the predicted records that the this loan application qualifies for receiving loan when actually it is not. The potential costs to the business if we were to make these mistakes in practice are that mentioned above. From what I understand, 87% of precision means that approximately 13 of every 100 loan application in reality are missed by our model and that 13 labeled as getting a loan while infact, it is not qualifies. With these 13% of mistake, there are a chance that the bank will loss its lending money to the particular start up or customer that will not be able to pay the money they owe back. The bank might end up wasting its money to spend on operation cost such as declaring bankruptcy and confiscating property. However, according to this [REFERNCE LINK](https://www.kasikornbank.com/th/IR/FAQs/financialinfo/030214%20-%20NPL%20definition.pdf ), the 13% chance of mistake is considered not high enough to be aware of this particular cost of business. \n",
    "    \n",
    "    \n",
    "- In this threshold, there are 19 of the False Negative (FN). This number represents the predicted records that according to these characteristics property, the bank should not approve loan to this application while actually this application qualifies and should be given out loan. From what I understand, 80% of recall means that approximately 20 applications out of 100 in reality are missed by our model and do not receive the loan although they should get it. The potential costs to the business if we were to make these mistakes in practice are that mentioned above as well. There are 20% of chance to mistakenly approve wrong person loan so that means there also a 20% chance that the bank those who suppose to get the money and be successful in investing or doing their business. This means that the bank will tend to lose its prospective clients and their reputation. However, compared with FP mistake, the cost from FN side is considered low impact so I think it is okay to have higher number of FN. \n",
    "    \n",
    "- And as stated above, I personally think that the costliest side is on the False Positive (FP) as its downside is way more severe than the False Negative (FN).\n",
    "    Therefore, I will stick on this threshold. This is because it has the balanced amount of the False Positivr and the False Negative. The fact that for me, I would prefer to have lower FP comparing to FN. However, I also, do not want to have that high amount of FN as there are pitfalls from the FN as well.   \n"
   ]
  },
  {
   "cell_type": "markdown",
   "id": "d15b175f",
   "metadata": {},
   "source": [
    "**4. Based on my careful consideration of probability threshold options and the corresponding speculated risks/costs - which probability threshold do I recommend going forward with?**\n",
    "\n",
    "- As stated above, I personally think that the costliest side is on the False Positive (FP) as its impact is more severe and  costs way more than the other side of the False Negative (FN) in terms of profit and damage reputation.\n",
    "    This threshold has low number of FP (lower than 25% benchmark according to the non-performing loan definition as I want! Futhermore, not only it has low and less number of FP compare with FN, the number of FN is not too high comparing to many of other thresholds. Therefore, I considered this 60% threshold as a perfect ratio of FP and FN to choose to distinguish which application to be approved loan to and which is not."
   ]
  },
  {
   "cell_type": "markdown",
   "id": "d074c8f1",
   "metadata": {},
   "source": [
    ">[Go to Machine Learning Outline](#ml-model)\n",
    "---"
   ]
  },
  {
   "cell_type": "markdown",
   "id": "1b2482ad",
   "metadata": {},
   "source": [
    "# 5. Deployment of Model <a class=\"anchor\" id=\"model-deployment\"></a>\n",
    "\n",
    "I will deploy all the result I have got into a streamlit website which will help bank to be more convenient in knowing which loan application to be approved loan to and which is not!  \n",
    "\n",
    "* [Go to Top](#table-of-content)"
   ]
  },
  {
   "cell_type": "markdown",
   "id": "9d67fe77",
   "metadata": {},
   "source": [
    "###  Future references use (if I want to deploy):\n",
    "**1. Create new object by using Pickle and name it 'classifier' and instantiate it with pickle_out. Name other parameters as whatever that suit the model the most (See all details by running the code first then click shift+tab).** \n",
    "\n",
    "  - Check whether in the same location, is there a file name 'classifer' appears in that location?\n",
    "\n",
    "**NOTE: we do not have to name it as 'classifier'**\n",
    "\n",
    "**2. Dump the building model into 'classifier' by using .dump()**\n",
    "  - For better understanding ==> [LINK](https://docs.python.org/3/library/pickle.html)\n",
    "  - .dump is different from .dumps so be careful!!!\n",
    "\n",
    "**3. Don't forget to pickle_out.close()** \n",
    "  - Question: Can we leave it open without closing? Answer: If for reading purpose, Yes but if for writing purpose, it can cause a missing data later. ==> stackoverflow!!! [LINK](https://stackoverflow.com/questions/66855334/why-cant-i-close-a-pickle-file#:~:text=Will%20it%20be%20a%20big%20deal%20if%20I,file%20open%20for%20writing%20could%20cause%20missing%20data.) <br>\n",
    "  \n",
    "**4. How to add Threshold**\n",
    "  - [LINK](https://www.timvink.nl/streamlit-threshold-app/)"
   ]
  },
  {
   "cell_type": "code",
   "execution_count": 17,
   "id": "c4814ad1",
   "metadata": {},
   "outputs": [],
   "source": [
    "pickle_out = open('classifier', mode='wb')             # I am creating a new object called pickle_out. This pickle_out \n",
    "                                                       # object will have a file name 'classifier'. This file will have \n",
    "                                                       # a mode of 'wb' which means I am writing to the file (w) in binary\n",
    "                                                       # mode (b).\n",
    "            \n",
    "pickle.dump(lr_model, pickle_out)                      # \".dump()\" is a method of dumping or putting data into the pickle \n",
    "                                                       # object that I created. In this case, I will dump my model which\n",
    "                                                       # is instantiate from the LogisticRegression model that I built and\n",
    "                                                       # check the accuracy out into the \"pickle_out\" object that I just \n",
    "                                                       # created above.\n",
    "                \n",
    "pickle_out.close()                                     # Use \".close()\" method after I have written my python into the \n",
    "                                                       # pickle_out object. "
   ]
  },
  {
   "cell_type": "markdown",
   "id": "1a75de1f",
   "metadata": {},
   "source": [
    "### <span style=\"color:red\"><b> NOTE: </b></span>\n",
    "As we are now focusing on finding a proper threshold to help eliminate cost of error as much as possible, I decided to add range of thresholds into streamlit. This will allow bank to pick threshold by themselves. However, I will inform about the best threshold that I think will help hr to preserve their customers and lower their costs (60%). \n",
    "\n",
    "### Question of curiosity:\n",
    " - Can I show only the best threshold? \n",
    " "
   ]
  },
  {
   "cell_type": "code",
   "execution_count": 28,
   "id": "d886d04b",
   "metadata": {},
   "outputs": [
    {
     "name": "stdout",
     "output_type": "stream",
     "text": [
      "Overwriting app.py\n"
     ]
    }
   ],
   "source": [
    "%%writefile app.py\n",
    "\n",
    "import pickle\n",
    "import streamlit as st\n",
    "\n",
    "# I decided to add threshold range to let the hr department pick which threshold they would rather \n",
    "# use to predict the outcome!\n",
    "st.title(\"Setting the threshold for our classifier\")\n",
    "threshold = st.slider(\"Threshold\", min_value=0.00, max_value=1.0, step=0.01, value=0.5)\n",
    "\n",
    "pickle_in = open('classifier', 'rb')\n",
    "classifier = pickle.load(pickle_in)\n",
    "\n",
    "@st.cache()\n",
    "\n",
    "# Define the function which will make the prediction using data\n",
    "# inputs from users\n",
    "def prediction(gender,age,debt,married,bank_customer,ethnicity_white,ethnicity_black,ethnicity_latino,ethnicity_asian,\n",
    "               ethnicity_other,emp_industrial,emp_materials,emp_consumer_services,emp_healthcare,\n",
    "               emp_financials,emp_utilities,emp_education,years_employed,prior_default,employed,credit_score,drivers_license,\n",
    "               citizen_bybirth,citizen_other,citizen_temporary,Income\n",
    "):\n",
    "    \n",
    "    # Make predictions\n",
    "    prediction = classifier.predict(\n",
    "        [[gender,age,debt,married,bank_customer,ethnicity_white,ethnicity_black,ethnicity_latino,ethnicity_asian,\n",
    "               ethnicity_other,emp_industrial,emp_materials,emp_consumer_services,emp_healthcare,\n",
    "               emp_financials,emp_utilities,emp_education,years_employed,prior_default,employed,credit_score,drivers_license,\n",
    "               citizen_bybirth,citizen_other,citizen_temporary,Income]])\n",
    "    \n",
    "    if prediction == 1:\n",
    "        pred = 'Approved!'\n",
    "    else:\n",
    "        pred = 'Not approved!'\n",
    "    return pred\n",
    "\n",
    "# This is the main function in which we define our webpage\n",
    "def main():\n",
    "    \n",
    "    # Create input fields\n",
    "    # Use time_input instead as this is a different data type\n",
    "    \n",
    "    gender = st.number_input(\"What is your gender? (Female= 1, Male= 0)\",\n",
    "                                  min_value=0.0,\n",
    "                                  max_value=1.0,\n",
    "                                  value=0.0,\n",
    "                                  step=1.00,\n",
    "                                 )\n",
    "    age = st.number_input(\"How old are you?\",\n",
    "                              min_value=13.0,\n",
    "                              max_value=81.0,\n",
    "                              value=32.0, # setting value that will show up in the website using mean value from the dataset\n",
    "                              step=1.0 # increment by 1\n",
    "                             )\n",
    "\n",
    "    debt = st.number_input(\"How much do you owe the bank? (in /1,000,000 Dollars )\",\n",
    "                              min_value=0.000,\n",
    "                              max_value=None,\n",
    "                              value=0.000,\n",
    "                              step=0.001\n",
    "                             )\n",
    "    married = st.number_input(\"Are you married? (Yes= 1, No= 0)\",\n",
    "                              min_value=0.0,\n",
    "                              max_value=1.0,\n",
    "                              value=0.0,\n",
    "                              step=1.0\n",
    "                             )\n",
    "    bank_customer = st.number_input(\"Are you a customer of this bank? (Yes= 1, No= 0)\",\n",
    "                              min_value=0.0,\n",
    "                              max_value=1.0,\n",
    "                              value=0.0,\n",
    "                              step=1.0\n",
    "                             )\n",
    "    ethnicity_white = st.number_input(\"Are you white? (Yes= 1, No= 0)\",\n",
    "                              min_value=0.0,\n",
    "                              max_value=1.0,\n",
    "                              value=0.0,\n",
    "                              step=1.0\n",
    "                             )\n",
    "    ethnicity_black = st.number_input(\"Are you black? (Yes= 1, No= 0)\",\n",
    "                              min_value=0.0,\n",
    "                              max_value=1.0,\n",
    "                              value=0.0,\n",
    "                              step=1.0\n",
    "                             )\n",
    "    ethnicity_latino = st.number_input(\"Are you latino? (Yes= 1, No= 0)\",\n",
    "                              min_value=0.0,\n",
    "                              max_value=1.0,\n",
    "                              value=0.0,\n",
    "                              step=1.0\n",
    "                             )\n",
    "    ethnicity_asian = st.number_input(\"Are you asian? (Yes= 1, No= 0)\",\n",
    "                              min_value=0.0,\n",
    "                              max_value=1.0,\n",
    "                              value=0.0,\n",
    "                              step=1.0\n",
    "                             )\n",
    "    ethnicity_other = st.number_input(\"If none ethnicity of the above apply, reponse yes to this. (Yes= 1, No= 0)\",\n",
    "                              min_value=0.0,\n",
    "                              max_value=1.0,\n",
    "                              value=0.0,\n",
    "                              step=1.0\n",
    "                             )\n",
    "    emp_industrial = st.number_input(\"Are your occupation related to industry? (Yes= 1, No= 0)\",\n",
    "                              min_value=0.0,\n",
    "                              max_value=1.0,\n",
    "                              value=0.0,\n",
    "                              step=1.0\n",
    "                             )\n",
    "    emp_materials = st.number_input(\"Are your occupation related to materials? (Yes= 1, No= 0)\",\n",
    "                              min_value=0.0,\n",
    "                              max_value=1.0,\n",
    "                              value=0.0,\n",
    "                              step=1.0\n",
    "                             )\n",
    "    emp_consumer_services = st.number_input(\"Are your occupation related to consumer services? (Yes= 1, No= 0)\",\n",
    "                              min_value=0.0,\n",
    "                              max_value=1.0,\n",
    "                              value=0.0,\n",
    "                              step=1.0\n",
    "                             )\n",
    "    emp_healthcare = st.number_input(\"Are your occupation related to healthcare? (Yes= 1, No= 0)\",\n",
    "                              min_value=0.0,\n",
    "                              max_value=1.0,\n",
    "                              value=0.0,\n",
    "                              step=1.0\n",
    "                             )\n",
    "    emp_financials = st.number_input(\"Are your occupation related to financials? (Yes= 1, No= 0)\",\n",
    "                              min_value=0.0,\n",
    "                              max_value=1.0,\n",
    "                              value=0.0,\n",
    "                              step=1.0\n",
    "                             )\n",
    "    emp_utilities = st.number_input(\"Are your occupation related to utilities? (Yes= 1, No= 0)\",\n",
    "                              min_value=0.0,\n",
    "                              max_value=1.0,\n",
    "                              value=0.0,\n",
    "                              step=1.0\n",
    "                             )\n",
    "    emp_education = st.number_input(\"Are your occupation related to education? (Yes= 1, No= 0)\",\n",
    "                              min_value=0.0,\n",
    "                              max_value=1.0,\n",
    "                              value=0.0,\n",
    "                              step=1.0\n",
    "                             )\n",
    "    \n",
    "    years_employed= st.number_input(\"How long have you been in workforce?\",\n",
    "                              min_value=0.000,\n",
    "                              max_value=None,\n",
    "                              value=0.000,\n",
    "                              step=0.001\n",
    "                             )\n",
    "    \n",
    "    prior_default = st.number_input(\"Have you ever default your loan? (Yes= 1, No= 0)\",\n",
    "                              min_value=0.0,\n",
    "                              max_value=1.0,\n",
    "                              value=0.0,\n",
    "                              step=1.0\n",
    "                             )    \n",
    "    employed = st.number_input(\"Are you employed? (Yes= 1, No= 0)\",\n",
    "                              min_value=0.0,\n",
    "                              max_value=1.0,\n",
    "                              value=0.0,\n",
    "                              step=1.0\n",
    "                             )           \n",
    "    credit_score = st.number_input(\"What is your credit score?\",\n",
    "                              min_value=0.0,\n",
    "                              max_value=100.0,\n",
    "                              value=3.0,\n",
    "                              step=1.0\n",
    "                             )   \n",
    "    drivers_license = st.number_input(\"Do you have a driver license? (Yes= 1, No= 0)\",\n",
    "                              min_value=0.0,\n",
    "                              max_value=1.0,\n",
    "                              value=0.0,\n",
    "                              step=1.0\n",
    "                             )\n",
    "    citizen_bybirth = st.number_input(\"Are you a citizen by birth? (Yes= 1, No= 0)\",\n",
    "                              min_value=0.0,\n",
    "                              max_value=1.0,\n",
    "                              value=0.0,\n",
    "                              step=1.0\n",
    "                             )   \n",
    "    citizen_temporary = st.number_input(\"Are you a temporary citizen? (Yes= 1, No= 0)\",\n",
    "                              min_value=0.0,\n",
    "                              max_value=1.0,\n",
    "                              value=0.0,\n",
    "                              step=1.0\n",
    "                             )  \n",
    "    citizen_other = st.number_input(\"If all citizen questions above do not apply to your citizenship, reponse yes to this. (Yes= 1, No= 0)\",\n",
    "                              min_value=0.0,\n",
    "                              max_value=1.0,\n",
    "                              value=0.0,\n",
    "                              step=1.0\n",
    "                             )  \n",
    "\n",
    "    Income = st.number_input(\"How much are your salary? (Yes= 1, No= 0)\",\n",
    "                              min_value=0.0,\n",
    "                              max_value=1000000.0,\n",
    "                              value=1000.0,\n",
    "                              step=1.0\n",
    "                             )  \n",
    "    result = \"\"\n",
    "    \n",
    "    # When 'Predict' is clicked, make the prediction and store it\n",
    "    if st.button(\"Predict\"):\n",
    "        result = prediction(gender,age,debt,married,bank_customer,ethnicity_white,ethnicity_black,ethnicity_latino,ethnicity_asian,\n",
    "               ethnicity_other,emp_industrial,emp_materials,emp_consumer_services,emp_healthcare,\n",
    "               emp_financials,emp_utilities,emp_education,years_employed,prior_default,employed,credit_score,drivers_license,\n",
    "               citizen_bybirth,citizen_other,citizen_temporary,Income)\n",
    "        st.success(result)\n",
    "        \n",
    "if __name__=='__main__':\n",
    "    main()\n",
    "    "
   ]
  },
  {
   "cell_type": "markdown",
   "id": "765974ba",
   "metadata": {},
   "source": [
    "# NOTE:\n",
    "Pretty vague information. From what I researched, actual minimum and maximum credit score is 300 and 850 respectively. The Age information is supposed to be integer not real number. I also not sure about the input in debt feature so I assume as the amount of money each person owe the bank. "
   ]
  },
  {
   "cell_type": "markdown",
   "id": "8d8059a2",
   "metadata": {},
   "source": [
    "## <span style=\"color:orange\"><b> Checking final result</span>\n",
    "### Try using it by myself first to check how smooth the process is. Check for the error such as words or mathematical typo!</b>"
   ]
  },
  {
   "cell_type": "code",
   "execution_count": 29,
   "id": "6d641411",
   "metadata": {},
   "outputs": [
    {
     "name": "stdout",
     "output_type": "stream",
     "text": [
      "^C\n"
     ]
    }
   ],
   "source": [
    "!streamlit run app.py"
   ]
  },
  {
   "cell_type": "code",
   "execution_count": null,
   "id": "55a755d8",
   "metadata": {},
   "outputs": [],
   "source": []
  }
 ],
 "metadata": {
  "kernelspec": {
   "display_name": "Python 3 (ipykernel)",
   "language": "python",
   "name": "python3"
  },
  "language_info": {
   "codemirror_mode": {
    "name": "ipython",
    "version": 3
   },
   "file_extension": ".py",
   "mimetype": "text/x-python",
   "name": "python",
   "nbconvert_exporter": "python",
   "pygments_lexer": "ipython3",
   "version": "3.10.9"
  }
 },
 "nbformat": 4,
 "nbformat_minor": 5
}
